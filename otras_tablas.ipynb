{
 "cells": [
  {
   "cell_type": "code",
   "execution_count": 1,
   "id": "ff83f667-72b3-41f1-8f38-c49fef3ede51",
   "metadata": {},
   "outputs": [],
   "source": [
    "import pandas as pd"
   ]
  },
  {
   "cell_type": "code",
   "execution_count": 2,
   "id": "99bcd8bb-a0aa-48d6-8e4f-f180ce1559e6",
   "metadata": {},
   "outputs": [],
   "source": [
    "cines = pd.read_csv('data/cines/2022-junio/cines-29-06-2022.csv')\n",
    "museos = pd.read_csv('data/museos/2022-junio/museos-29-06-2022.csv')\n",
    "bibliotecas = pd.read_csv('data/bibliotecas/2022-junio/bibliotecas-29-06-2022.csv')"
   ]
  },
  {
   "cell_type": "code",
   "execution_count": 3,
   "id": "25784f79-e1c8-4cf9-87d4-5c70791dacf7",
   "metadata": {},
   "outputs": [],
   "source": [
    "tabla_general = pd.concat([cines, museos, bibliotecas], axis=0, ignore_index=True)\n",
    "tabla_general = tabla_general.drop('Unnamed: 0', axis=1)"
   ]
  },
  {
   "cell_type": "code",
   "execution_count": 4,
   "id": "5a450eb3-02a9-4787-aa79-083a8b94d417",
   "metadata": {},
   "outputs": [],
   "source": [
    "tabla_general.to_csv('tabla_general.csv')"
   ]
  },
  {
   "cell_type": "code",
   "execution_count": 5,
   "id": "7ae9cdf4-0671-4315-9304-f54cda351127",
   "metadata": {},
   "outputs": [],
   "source": [
    "# Generar las tablas de análisis\n",
    "total_registro_cat = pd.DataFrame(tabla_general.categoria.value_counts())"
   ]
  },
  {
   "cell_type": "code",
   "execution_count": 6,
   "id": "b2bfb33b-198c-4c14-9787-0b29a1fa039c",
   "metadata": {},
   "outputs": [],
   "source": [
    "total_cat_prov = pd.DataFrame(tabla_general.groupby(['provincia', 'categoria']).count())\n",
    "total_cat_prov = pd.DataFrame(total_cat_prov.iloc[:,0])\n",
    "total_cat_prov.rename(columns={'cod_localidad':'por_cat_prov'}, inplace=True)"
   ]
  },
  {
   "cell_type": "code",
   "execution_count": 27,
   "id": "0b4bea34-f52f-4a49-9d3b-3751f28a2f3f",
   "metadata": {},
   "outputs": [],
   "source": [
    "import numpy as np\n",
    "import requests\n",
    "import csv"
   ]
  },
  {
   "cell_type": "code",
   "execution_count": 28,
   "id": "56eafdaa-a4e0-4802-93c9-2c1cfffaf357",
   "metadata": {},
   "outputs": [],
   "source": [
    "r = requests.get('https://datos.cultura.gob.ar/dataset/37305de4-3cce-4d4b-9d9a-fec3ca61d09f/resource/392ce1a8-ef11-4776-b280-6f1c7fae16ae/download/cine.csv')\n",
    "download = r.content.decode('utf-8')\n",
    "csv_file = csv.reader(download.splitlines(), delimiter=',')\n",
    "csv_creator = list(csv_file)\n",
    "raw_data = pd.DataFrame(csv_creator[1:], columns=csv_creator[0])"
   ]
  },
  {
   "cell_type": "code",
   "execution_count": 55,
   "id": "409b21fa-61b9-45f3-a440-f390180c14c0",
   "metadata": {},
   "outputs": [
    {
     "data": {
      "text/plain": [
       "Index(['Cod_Loc', 'IdProvincia', 'IdDepartamento', 'Observaciones',\n",
       "       'Categoría', 'Provincia', 'Departamento', 'Localidad', 'Nombre',\n",
       "       'Dirección', 'Piso', 'CP', 'cod_area', 'Teléfono', 'Mail', 'Web',\n",
       "       'Información adicional', 'Latitud', 'Longitud', 'TipoLatitudLongitud',\n",
       "       'Fuente', 'tipo_gestion', 'Pantallas', 'Butacas', 'espacio_INCAA',\n",
       "       'año_actualizacion'],\n",
       "      dtype='object')"
      ]
     },
     "execution_count": 55,
     "metadata": {},
     "output_type": "execute_result"
    }
   ],
   "source": [
    "raw_data.columns"
   ]
  },
  {
   "cell_type": "code",
   "execution_count": 60,
   "id": "b3da2996-d2bc-4f1c-8682-55901229c5d3",
   "metadata": {},
   "outputs": [],
   "source": [
    "raw_data['Pantallas'] = raw_data['Pantallas'].astype(int)\n",
    "raw_data['Butacas'] = raw_data['Butacas'].astype(int)\n",
    "if raw_data['espacio_INCAA'].empty:\n",
    "    raw_data['espacio_INCAA'] = 0\n",
    "else:\n",
    "     raw_data['espacio_INCAA'] = 1\n",
    "raw_data['espacio_INCAA'] = raw_data['espacio_INCAA'].astype(int)"
   ]
  },
  {
   "cell_type": "code",
   "execution_count": 61,
   "id": "feceb58a-71b3-4fe4-8d5d-a558917b3ada",
   "metadata": {},
   "outputs": [],
   "source": [
    "cines_tabla = raw_data.groupby(['Provincia']).agg({'Pantallas':[np.sum], 'Butacas':[np.sum], 'espacio_INCAA':[np.sum]})"
   ]
  },
  {
   "cell_type": "code",
   "execution_count": 62,
   "id": "cc24d91f-f307-422e-8a76-bb38d75949cc",
   "metadata": {},
   "outputs": [],
   "source": [
    "cines_tabla = pd.DataFrame(cines_raw)"
   ]
  },
  {
   "cell_type": "code",
   "execution_count": 63,
   "id": "112735ac-c74a-48bc-896b-ffa94e479828",
   "metadata": {},
   "outputs": [
    {
     "data": {
      "text/html": [
       "<div>\n",
       "<style scoped>\n",
       "    .dataframe tbody tr th:only-of-type {\n",
       "        vertical-align: middle;\n",
       "    }\n",
       "\n",
       "    .dataframe tbody tr th {\n",
       "        vertical-align: top;\n",
       "    }\n",
       "\n",
       "    .dataframe thead tr th {\n",
       "        text-align: left;\n",
       "    }\n",
       "\n",
       "    .dataframe thead tr:last-of-type th {\n",
       "        text-align: right;\n",
       "    }\n",
       "</style>\n",
       "<table border=\"1\" class=\"dataframe\">\n",
       "  <thead>\n",
       "    <tr>\n",
       "      <th></th>\n",
       "      <th>Pantallas</th>\n",
       "      <th>Butacas</th>\n",
       "      <th>espacio_INCAA</th>\n",
       "    </tr>\n",
       "    <tr>\n",
       "      <th></th>\n",
       "      <th>sum</th>\n",
       "      <th>sum</th>\n",
       "      <th>sum</th>\n",
       "    </tr>\n",
       "    <tr>\n",
       "      <th>Provincia</th>\n",
       "      <th></th>\n",
       "      <th></th>\n",
       "      <th></th>\n",
       "    </tr>\n",
       "  </thead>\n",
       "  <tbody>\n",
       "    <tr>\n",
       "      <th>Buenos Aires</th>\n",
       "      <td>358</td>\n",
       "      <td>93112</td>\n",
       "      <td>106</td>\n",
       "    </tr>\n",
       "    <tr>\n",
       "      <th>Catamarca</th>\n",
       "      <td>12</td>\n",
       "      <td>3200</td>\n",
       "      <td>4</td>\n",
       "    </tr>\n",
       "    <tr>\n",
       "      <th>Chaco</th>\n",
       "      <td>14</td>\n",
       "      <td>2469</td>\n",
       "      <td>4</td>\n",
       "    </tr>\n",
       "    <tr>\n",
       "      <th>Chubut</th>\n",
       "      <td>10</td>\n",
       "      <td>2682</td>\n",
       "      <td>9</td>\n",
       "    </tr>\n",
       "    <tr>\n",
       "      <th>Ciudad Autónoma de Buenos Aires</th>\n",
       "      <td>153</td>\n",
       "      <td>31386</td>\n",
       "      <td>35</td>\n",
       "    </tr>\n",
       "    <tr>\n",
       "      <th>Corrientes</th>\n",
       "      <td>17</td>\n",
       "      <td>3370</td>\n",
       "      <td>8</td>\n",
       "    </tr>\n",
       "    <tr>\n",
       "      <th>Córdoba</th>\n",
       "      <td>105</td>\n",
       "      <td>20799</td>\n",
       "      <td>35</td>\n",
       "    </tr>\n",
       "    <tr>\n",
       "      <th>Entre Ríos</th>\n",
       "      <td>17</td>\n",
       "      <td>4086</td>\n",
       "      <td>13</td>\n",
       "    </tr>\n",
       "    <tr>\n",
       "      <th>Formosa</th>\n",
       "      <td>4</td>\n",
       "      <td>1184</td>\n",
       "      <td>2</td>\n",
       "    </tr>\n",
       "    <tr>\n",
       "      <th>Jujuy</th>\n",
       "      <td>5</td>\n",
       "      <td>2277</td>\n",
       "      <td>4</td>\n",
       "    </tr>\n",
       "    <tr>\n",
       "      <th>La Pampa</th>\n",
       "      <td>6</td>\n",
       "      <td>2071</td>\n",
       "      <td>6</td>\n",
       "    </tr>\n",
       "    <tr>\n",
       "      <th>La Rioja</th>\n",
       "      <td>10</td>\n",
       "      <td>1477</td>\n",
       "      <td>5</td>\n",
       "    </tr>\n",
       "    <tr>\n",
       "      <th>Mendoza</th>\n",
       "      <td>47</td>\n",
       "      <td>11116</td>\n",
       "      <td>16</td>\n",
       "    </tr>\n",
       "    <tr>\n",
       "      <th>Misiones</th>\n",
       "      <td>10</td>\n",
       "      <td>2177</td>\n",
       "      <td>6</td>\n",
       "    </tr>\n",
       "    <tr>\n",
       "      <th>Neuquén</th>\n",
       "      <td>12</td>\n",
       "      <td>3959</td>\n",
       "      <td>5</td>\n",
       "    </tr>\n",
       "    <tr>\n",
       "      <th>Río Negro</th>\n",
       "      <td>10</td>\n",
       "      <td>2474</td>\n",
       "      <td>7</td>\n",
       "    </tr>\n",
       "    <tr>\n",
       "      <th>Salta</th>\n",
       "      <td>23</td>\n",
       "      <td>4665</td>\n",
       "      <td>10</td>\n",
       "    </tr>\n",
       "    <tr>\n",
       "      <th>San Juan</th>\n",
       "      <td>22</td>\n",
       "      <td>4617</td>\n",
       "      <td>6</td>\n",
       "    </tr>\n",
       "    <tr>\n",
       "      <th>San Luis</th>\n",
       "      <td>12</td>\n",
       "      <td>2601</td>\n",
       "      <td>4</td>\n",
       "    </tr>\n",
       "    <tr>\n",
       "      <th>Santa Cruz</th>\n",
       "      <td>7</td>\n",
       "      <td>1256</td>\n",
       "      <td>5</td>\n",
       "    </tr>\n",
       "    <tr>\n",
       "      <th>Santa Fe</th>\n",
       "      <td>79</td>\n",
       "      <td>20131</td>\n",
       "      <td>23</td>\n",
       "    </tr>\n",
       "    <tr>\n",
       "      <th>Santiago del Estero</th>\n",
       "      <td>11</td>\n",
       "      <td>2928</td>\n",
       "      <td>5</td>\n",
       "    </tr>\n",
       "    <tr>\n",
       "      <th>Tierra del Fuego</th>\n",
       "      <td>6</td>\n",
       "      <td>1445</td>\n",
       "      <td>3</td>\n",
       "    </tr>\n",
       "    <tr>\n",
       "      <th>Tucumán</th>\n",
       "      <td>24</td>\n",
       "      <td>5161</td>\n",
       "      <td>8</td>\n",
       "    </tr>\n",
       "  </tbody>\n",
       "</table>\n",
       "</div>"
      ],
      "text/plain": [
       "                                Pantallas Butacas espacio_INCAA\n",
       "                                      sum     sum           sum\n",
       "Provincia                                                      \n",
       "Buenos Aires                          358   93112           106\n",
       "Catamarca                              12    3200             4\n",
       "Chaco                                  14    2469             4\n",
       "Chubut                                 10    2682             9\n",
       "Ciudad Autónoma de Buenos Aires       153   31386            35\n",
       "Corrientes                             17    3370             8\n",
       "Córdoba                               105   20799            35\n",
       "Entre Ríos                             17    4086            13\n",
       "Formosa                                 4    1184             2\n",
       "Jujuy                                   5    2277             4\n",
       "La Pampa                                6    2071             6\n",
       "La Rioja                               10    1477             5\n",
       "Mendoza                                47   11116            16\n",
       "Misiones                               10    2177             6\n",
       "Neuquén                                12    3959             5\n",
       "Río Negro                              10    2474             7\n",
       "Salta                                  23    4665            10\n",
       "San Juan                               22    4617             6\n",
       "San Luis                               12    2601             4\n",
       "Santa Cruz                              7    1256             5\n",
       "Santa Fe                               79   20131            23\n",
       "Santiago del Estero                    11    2928             5\n",
       "Tierra del Fuego                        6    1445             3\n",
       "Tucumán                                24    5161             8"
      ]
     },
     "execution_count": 63,
     "metadata": {},
     "output_type": "execute_result"
    }
   ],
   "source": [
    "cines_tabla"
   ]
  },
  {
   "cell_type": "code",
   "execution_count": null,
   "id": "3cd9f4dc-e2cd-45e1-8479-e68942c796a8",
   "metadata": {},
   "outputs": [],
   "source": []
  }
 ],
 "metadata": {
  "kernelspec": {
   "display_name": "Python 3 (ipykernel)",
   "language": "python",
   "name": "python3"
  },
  "language_info": {
   "codemirror_mode": {
    "name": "ipython",
    "version": 3
   },
   "file_extension": ".py",
   "mimetype": "text/x-python",
   "name": "python",
   "nbconvert_exporter": "python",
   "pygments_lexer": "ipython3",
   "version": "3.9.7"
  }
 },
 "nbformat": 4,
 "nbformat_minor": 5
}
